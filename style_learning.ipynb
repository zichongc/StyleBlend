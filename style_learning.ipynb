{
 "cells": [
  {
   "cell_type": "markdown",
   "metadata": {},
   "source": [
    "## StyleBlend Training\n",
    "\n",
    "This script is used for trianing to capture the composition and texture styles from reference images."
   ]
  },
  {
   "cell_type": "markdown",
   "metadata": {},
   "source": [
    "### Prepare"
   ]
  },
  {
   "cell_type": "code",
   "execution_count": null,
   "metadata": {},
   "outputs": [],
   "source": [
    "import os\n",
    "from omegaconf import OmegaConf\n",
    "from accelerate.utils import set_seed\n",
    "from src.composition_style_training import create_plausible_dataset\n",
    "from src.composition_style_training import train as train_cs\n",
    "from src.texture_style_training import train as train_fs\n",
    "\n",
    "config_path = './configs/training_config_sd21.yaml'\n",
    "cfg = OmegaConf.load(config_path)\n",
    "set_seed(cfg.seed)\n",
    "\n",
    "# TODO: specify the style name\n",
    "style = 'style1'\n",
    "\n",
    "cfg.output_dir = os.path.join(cfg.output_dir, style)\n",
    "os.makedirs(cfg.output_dir, exist_ok=True)"
   ]
  },
  {
   "cell_type": "markdown",
   "metadata": {},
   "source": [
    "### Composition Style Learning\n",
    "\n",
    "It first creates a plausible dataest using SDEdit, and then trains the LoRA-Text-Encoder on the generated data by a DreamBooth-like method."
   ]
  },
  {
   "cell_type": "code",
   "execution_count": null,
   "metadata": {},
   "outputs": [],
   "source": [
    "config_to_save = OmegaConf.create({\n",
    "    'seed': cfg.seed,\n",
    "    'output_dir': cfg.output_dir,\n",
    "    'composition_style_training': cfg.composition_style_training\n",
    "})\n",
    "OmegaConf.save(config_to_save, os.path.join(cfg.output_dir, 'composition_style_training_config.yaml'))\n",
    "print(f'Configurations saved to {os.path.join(cfg.output_dir, \"composition_style_training_config.yaml\")}')\n",
    "\n",
    "if not os.path.exists(os.path.join(cfg.composition_style_training.dir_to_save_dataset, style)):\n",
    "    create_plausible_dataset(cfg, style=style)\n",
    "    \n",
    "train_cs(cfg, style=style)"
   ]
  },
  {
   "cell_type": "markdown",
   "metadata": {},
   "source": [
    "### Texture Style Learning\n",
    "\n",
    "It first optimizes the style embeddings using Textual Inversion, and then trains the LoRA-Unet on the style data by DreamBooth-LoRA."
   ]
  },
  {
   "cell_type": "code",
   "execution_count": null,
   "metadata": {},
   "outputs": [],
   "source": [
    "config_to_save = OmegaConf.create({\n",
    "    'seed': cfg.seed,\n",
    "    'output_dir': cfg.output_dir,\n",
    "    'texture_style_training': cfg.texture_style_training\n",
    "})\n",
    "OmegaConf.save(config_to_save, os.path.join(cfg.output_dir, 'texture_style_training_config.yaml'))\n",
    "print(f'Configurations saved to {os.path.join(cfg.output_dir, \"texture_style_training_config.yaml\")}')\n",
    "\n",
    "train_fs(cfg, style=style)"
   ]
  }
 ],
 "metadata": {
  "kernelspec": {
   "display_name": "torch21cu121",
   "language": "python",
   "name": "python3"
  },
  "language_info": {
   "codemirror_mode": {
    "name": "ipython",
    "version": 3
   },
   "file_extension": ".py",
   "mimetype": "text/x-python",
   "name": "python",
   "nbconvert_exporter": "python",
   "pygments_lexer": "ipython3",
   "version": "3.10.14"
  }
 },
 "nbformat": 4,
 "nbformat_minor": 2
}
